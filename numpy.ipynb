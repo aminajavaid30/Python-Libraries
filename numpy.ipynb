{
 "cells": [
  {
   "cell_type": "markdown",
   "id": "c0006e19-eee8-40a3-9a6d-8c26e7b3e0d6",
   "metadata": {},
   "source": [
    "# Python Libraries - Assignment 1"
   ]
  },
  {
   "cell_type": "markdown",
   "id": "fc2a4873-dd7e-4c4d-b310-e0056f848c9c",
   "metadata": {},
   "source": [
    "## NumPy Exercises"
   ]
  },
  {
   "cell_type": "code",
   "execution_count": 3,
   "id": "175fcee1-0cdb-45df-90ad-927a10e34b93",
   "metadata": {},
   "outputs": [],
   "source": [
    "# Import NumPy library\n",
    "import numpy as np"
   ]
  },
  {
   "cell_type": "markdown",
   "id": "bb20182e-b63c-4048-abde-5d45a6e30ee1",
   "metadata": {},
   "source": [
    "### Array Creation"
   ]
  },
  {
   "cell_type": "code",
   "execution_count": 5,
   "id": "18d52f69-517b-476a-8a5c-a33c5008d6c7",
   "metadata": {},
   "outputs": [
    {
     "data": {
      "text/plain": [
       "array([0., 0., 0., 0., 0., 0., 0., 0., 0., 0.])"
      ]
     },
     "execution_count": 5,
     "metadata": {},
     "output_type": "execute_result"
    }
   ],
   "source": [
    "# 1. Create a numpy array of size 10, filled with zeros\n",
    "zeros = np.zeros(10)\n",
    "zeros"
   ]
  },
  {
   "cell_type": "code",
   "execution_count": 11,
   "id": "dee88f6d-8469-4a1e-b22d-39457cfe856e",
   "metadata": {},
   "outputs": [
    {
     "data": {
      "text/plain": [
       "array([10., 11., 12., 13., 14., 15., 16., 17., 18., 19., 20., 21., 22.,\n",
       "       23., 24., 25., 26., 27., 28., 29., 30., 31., 32., 33., 34., 35.,\n",
       "       36., 37., 38., 39., 40., 41., 42., 43., 44., 45., 46., 47., 48.,\n",
       "       49.])"
      ]
     },
     "execution_count": 11,
     "metadata": {},
     "output_type": "execute_result"
    }
   ],
   "source": [
    "# 2. Create a numpy array with values ranging from 10 to 49 and set its datatype to float\n",
    "array = np.arange(10, 50, dtype=float)\n",
    "array"
   ]
  },
  {
   "cell_type": "code",
   "execution_count": 16,
   "id": "8375ae77-e41f-4e09-a8bc-217725adb8e4",
   "metadata": {},
   "outputs": [
    {
     "data": {
      "text/plain": [
       "array([[1, 1],\n",
       "       [1, 1]])"
      ]
     },
     "execution_count": 16,
     "metadata": {},
     "output_type": "execute_result"
    }
   ],
   "source": [
    "# 3. Create a numpy matrix of 2*2 integers, filled with ones\n",
    "ones_integer = np.ones((2, 2), dtype=int)\n",
    "ones_integer"
   ]
  },
  {
   "cell_type": "code",
   "execution_count": 17,
   "id": "64a375bf-b961-4615-8960-ae5681d51379",
   "metadata": {},
   "outputs": [
    {
     "data": {
      "text/plain": [
       "array([[1., 1.],\n",
       "       [1., 1.],\n",
       "       [1., 1.]])"
      ]
     },
     "execution_count": 17,
     "metadata": {},
     "output_type": "execute_result"
    }
   ],
   "source": [
    "# 4. Create a numpy matrix of 3*2 float numbers, filled with ones\n",
    "ones_float = np.ones((3, 2))\n",
    "ones_float"
   ]
  },
  {
   "cell_type": "code",
   "execution_count": 45,
   "id": "196a186a-3d74-4b49-a696-f7e733a8c64d",
   "metadata": {},
   "outputs": [
    {
     "data": {
      "text/plain": [
       "array([[1, 1, 1, 1, 1],\n",
       "       [1, 1, 1, 1, 1],\n",
       "       [1, 1, 1, 1, 1]])"
      ]
     },
     "execution_count": 45,
     "metadata": {},
     "output_type": "execute_result"
    }
   ],
   "source": [
    "# 5. Given the X numpy array, create a new numpy array with the same shape and type as X, filled with ones\n",
    "X = np.array([[1, 2, 3, 4, 5],\n",
    "              [6, 7, 8, 9, 10],\n",
    "              [11, 12, 13, 14, 15]])\n",
    "\n",
    "ones_like_X = np.ones_like(X)\n",
    "ones_like_X"
   ]
  },
  {
   "cell_type": "code",
   "execution_count": 46,
   "id": "bef8846e-595a-4921-804c-56c4ada40dbe",
   "metadata": {},
   "outputs": [
    {
     "data": {
      "text/plain": [
       "array([[0., 0., 0.],\n",
       "       [0., 0., 0.],\n",
       "       [0., 0., 0.]])"
      ]
     },
     "execution_count": 46,
     "metadata": {},
     "output_type": "execute_result"
    }
   ],
   "source": [
    "# 6. Given the X numpy matrix, create a new numpy matrix with the same shape and type as X, filled with zeros\n",
    "X = np.array([[1.0, 2.0, 3.0],\n",
    "              [4.0, 5.0, 6.0],\n",
    "              [7.0, 8.0, 9.0]])\n",
    "\n",
    "zeros_like_X = np.zeros_like(X)\n",
    "zeros_like_X"
   ]
  },
  {
   "cell_type": "code",
   "execution_count": 39,
   "id": "632693d2-159c-45e6-aea6-1e9f4eff069d",
   "metadata": {},
   "outputs": [
    {
     "data": {
      "text/plain": [
       "array([[5, 5, 5, 5],\n",
       "       [5, 5, 5, 5],\n",
       "       [5, 5, 5, 5],\n",
       "       [5, 5, 5, 5]])"
      ]
     },
     "execution_count": 39,
     "metadata": {},
     "output_type": "execute_result"
    }
   ],
   "source": [
    "# 7. Create a numpy matrix of 4*4 integers, filled with fives\n",
    "fives = np.full((4, 4), fill_value=5, dtype=int)\n",
    "fives"
   ]
  },
  {
   "cell_type": "code",
   "execution_count": 47,
   "id": "5d7d206b-0a86-4975-ac4e-b2824bfcaea1",
   "metadata": {},
   "outputs": [
    {
     "data": {
      "text/plain": [
       "array([[[7, 7, 7],\n",
       "        [7, 7, 7],\n",
       "        [7, 7, 7]],\n",
       "\n",
       "       [[7, 7, 7],\n",
       "        [7, 7, 7],\n",
       "        [7, 7, 7]]])"
      ]
     },
     "execution_count": 47,
     "metadata": {},
     "output_type": "execute_result"
    }
   ],
   "source": [
    "# 8. Given the X numpy matrix, create a new numpy matrix with the same shape and type as X, filled with sevens\n",
    "X = np.array([[[1, 2, 3],\n",
    "               [4, 5, 6],\n",
    "               [7, 8, 9]],\n",
    "              \n",
    "              [[10, 11, 12],\n",
    "               [13, 14, 15],\n",
    "               [16, 17, 18]]])\n",
    "\n",
    "sevens_like_X = np.full_like(X, fill_value=7)\n",
    "sevens_like_X"
   ]
  },
  {
   "cell_type": "code",
   "execution_count": 53,
   "id": "8d4d17b9-3f5e-461e-a46c-0b6fced38b5b",
   "metadata": {},
   "outputs": [
    {
     "data": {
      "text/plain": [
       "array([[1., 0., 0.],\n",
       "       [0., 1., 0.],\n",
       "       [0., 0., 1.]])"
      ]
     },
     "execution_count": 53,
     "metadata": {},
     "output_type": "execute_result"
    }
   ],
   "source": [
    "# 9. Create a 3*3 identity numpy matrix with ones on the diagonal and zeros elsewhere\n",
    "identity = np.identity(3)\n",
    "identity"
   ]
  },
  {
   "cell_type": "code",
   "execution_count": 57,
   "id": "79a5867a-191f-44a4-8b00-1b881ec7fd0d",
   "metadata": {},
   "outputs": [
    {
     "data": {
      "text/plain": [
       "array([7, 1, 3])"
      ]
     },
     "execution_count": 57,
     "metadata": {},
     "output_type": "execute_result"
    }
   ],
   "source": [
    "# 10. Create a numpy array, filled with 3 random integer values between 1 and 10\n",
    "random_array = np.random.randint(1, 10, size=3, dtype=int)\n",
    "random_array"
   ]
  },
  {
   "cell_type": "code",
   "execution_count": 64,
   "id": "e0ab6adc-bde1-4c1b-b7eb-d374fc919117",
   "metadata": {},
   "outputs": [
    {
     "data": {
      "text/plain": [
       "array([[[0.91742879, 0.22146888, 0.34532621],\n",
       "        [0.09425404, 0.4366447 , 0.52194893],\n",
       "        [0.38543236, 0.64701532, 0.93601754]],\n",
       "\n",
       "       [[0.37740584, 0.27020105, 0.49122601],\n",
       "        [0.70862462, 0.80648804, 0.81827038],\n",
       "        [0.6839267 , 0.34266457, 0.96493305]],\n",
       "\n",
       "       [[0.41954646, 0.1982823 , 0.42568778],\n",
       "        [0.79305366, 0.74314597, 0.09490929],\n",
       "        [0.6309204 , 0.90034132, 0.472839  ]]])"
      ]
     },
     "execution_count": 64,
     "metadata": {},
     "output_type": "execute_result"
    }
   ],
   "source": [
    "# 11. Create a 3*3*3 numpy matrix, filled with random float values\n",
    "random_floats = np.random.rand(3, 3, 3)\n",
    "random_floats"
   ]
  },
  {
   "cell_type": "code",
   "execution_count": 66,
   "id": "9b7caed4-310d-4563-b355-3107c1f12480",
   "metadata": {},
   "outputs": [
    {
     "data": {
      "text/plain": [
       "array([ 1,  2,  3,  4,  5,  6,  7,  8,  9, 10])"
      ]
     },
     "execution_count": 66,
     "metadata": {},
     "output_type": "execute_result"
    }
   ],
   "source": [
    "# 12. Create a numpy array with numbers from 1 to 10\n",
    "numbers = np.arange(1, 11)\n",
    "numbers"
   ]
  },
  {
   "cell_type": "code",
   "execution_count": 68,
   "id": "0e96fec3-4a46-4260-aef4-723f25bcebd4",
   "metadata": {},
   "outputs": [
    {
     "data": {
      "text/plain": [
       "array([1, 3, 5, 7, 9])"
      ]
     },
     "execution_count": 68,
     "metadata": {},
     "output_type": "execute_result"
    }
   ],
   "source": [
    "# 13. Create a numpy array with the odd numbers between 1 to 10\n",
    "odds = np.arange(1, 10, 2)\n",
    "odds"
   ]
  },
  {
   "cell_type": "code",
   "execution_count": 71,
   "id": "91b0bfe5-7e89-4dcd-a9b1-d74a37816994",
   "metadata": {},
   "outputs": [
    {
     "data": {
      "text/plain": [
       "array([10,  9,  8,  7,  6,  5,  4,  3,  2,  1])"
      ]
     },
     "execution_count": 71,
     "metadata": {},
     "output_type": "execute_result"
    }
   ],
   "source": [
    "# 14. Create a numpy array with numbers from 1 to 10, in descending order\n",
    "numbers_desc = np.arange(1, 11)[::-1]\n",
    "numbers_desc"
   ]
  },
  {
   "cell_type": "code",
   "execution_count": 73,
   "id": "7190e4be-2f82-4aa2-a10c-626657d282ac",
   "metadata": {},
   "outputs": [
    {
     "data": {
      "text/plain": [
       "array([[0, 1, 2],\n",
       "       [3, 4, 5],\n",
       "       [6, 7, 8]])"
      ]
     },
     "execution_count": 73,
     "metadata": {},
     "output_type": "execute_result"
    }
   ],
   "source": [
    "# 15. Create a 3*3 numpy matrix, filled with values ranging from 0 to 8\n",
    "matrix = np.arange(9).reshape(3, 3)\n",
    "matrix"
   ]
  },
  {
   "cell_type": "markdown",
   "id": "69878f19-377a-4b51-a4d9-4399120528e1",
   "metadata": {},
   "source": [
    "### Array Indexing"
   ]
  },
  {
   "cell_type": "code",
   "execution_count": 77,
   "id": "5052c855-7780-469b-93e6-18dc41610649",
   "metadata": {},
   "outputs": [
    {
     "data": {
      "text/plain": [
       "'A'"
      ]
     },
     "execution_count": 77,
     "metadata": {},
     "output_type": "execute_result"
    }
   ],
   "source": [
    "# 1. Given the X numpy array, show its first element\n",
    "X = np.array(['A','B','C','D','E'])\n",
    "X[0]"
   ]
  },
  {
   "cell_type": "code",
   "execution_count": 78,
   "id": "c904f276-d5de-4051-aee0-781042ee3831",
   "metadata": {},
   "outputs": [
    {
     "data": {
      "text/plain": [
       "'E'"
      ]
     },
     "execution_count": 78,
     "metadata": {},
     "output_type": "execute_result"
    }
   ],
   "source": [
    "# 2. Given the X numpy array, show its last element\n",
    "X = np.array(['A','B','C','D','E'])\n",
    "X[-1]"
   ]
  },
  {
   "cell_type": "code",
   "execution_count": 86,
   "id": "32c8c55b-bd4b-40b4-9302-a3fd1e74d62b",
   "metadata": {},
   "outputs": [
    {
     "name": "stdout",
     "output_type": "stream",
     "text": [
      "['A' 'B' 'C']\n"
     ]
    }
   ],
   "source": [
    "# 3. Given the X numpy array, show its first three elements\n",
    "X = np.array(['A','B','C','D','E'])\n",
    "print(X[0:3])"
   ]
  },
  {
   "cell_type": "code",
   "execution_count": 90,
   "id": "aae5246b-149e-4512-8e52-accdb81578d2",
   "metadata": {},
   "outputs": [
    {
     "name": "stdout",
     "output_type": "stream",
     "text": [
      "['B' 'C' 'D']\n"
     ]
    }
   ],
   "source": [
    "# 4. Given the X numpy array, show all middle elements\n",
    "X = np.array(['A','B','C','D','E'])\n",
    "print(X[1:-1])"
   ]
  },
  {
   "cell_type": "code",
   "execution_count": 94,
   "id": "fb0c0f39-c582-4ad1-8f53-04137e294a24",
   "metadata": {},
   "outputs": [
    {
     "name": "stdout",
     "output_type": "stream",
     "text": [
      "['E' 'D' 'C' 'B' 'A']\n"
     ]
    }
   ],
   "source": [
    "# 5. Given the X numpy array, show the elements in reverse position\n",
    "X = np.array(['A','B','C','D','E'])\n",
    "print(X[::-1])"
   ]
  },
  {
   "cell_type": "code",
   "execution_count": 96,
   "id": "355b522a-960d-4e1e-930a-f3a0966dafa8",
   "metadata": {},
   "outputs": [
    {
     "name": "stdout",
     "output_type": "stream",
     "text": [
      "['A' 'C' 'E']\n"
     ]
    }
   ],
   "source": [
    "# 6. Given the X numpy array, show the elements in an odd position\n",
    "X = np.array(['A','B','C','D','E'])\n",
    "print(X[0::2])"
   ]
  },
  {
   "cell_type": "code",
   "execution_count": 98,
   "id": "521e23d4-c6aa-4dd4-a444-716f7193c7f5",
   "metadata": {},
   "outputs": [
    {
     "name": "stdout",
     "output_type": "stream",
     "text": [
      "[1 2 3 4]\n"
     ]
    }
   ],
   "source": [
    "# 7. Given the X numpy matrix, show the first row’s elements\n",
    "X = np.array([\n",
    "    [1,   2,  3,  4],\n",
    "    [5,   6,  7,  8],\n",
    "    [9,  10, 11, 12],\n",
    "    [13, 14, 15, 16]\n",
    "])\n",
    "\n",
    "print(X[0])"
   ]
  },
  {
   "cell_type": "code",
   "execution_count": 99,
   "id": "5434c1ef-e062-491b-86ce-ecb11d0dbe77",
   "metadata": {},
   "outputs": [
    {
     "name": "stdout",
     "output_type": "stream",
     "text": [
      "[13 14 15 16]\n"
     ]
    }
   ],
   "source": [
    "# 8. Given the X numpy matrix, show the last row elements.\n",
    "\n",
    "X = np.array([\n",
    "    [1,   2,  3,  4],\n",
    "    [5,   6,  7,  8],\n",
    "    [9,  10, 11, 12],\n",
    "    [13, 14, 15, 16]\n",
    "])\n",
    "\n",
    "print(X[-1])"
   ]
  },
  {
   "cell_type": "code",
   "execution_count": 106,
   "id": "ac721b51-d220-4aa9-bd61-a3166874ab71",
   "metadata": {},
   "outputs": [
    {
     "data": {
      "text/plain": [
       "1"
      ]
     },
     "execution_count": 106,
     "metadata": {},
     "output_type": "execute_result"
    }
   ],
   "source": [
    "# 9. Given the X numpy matrix, show the first element on first row\n",
    "\n",
    "X = np.array([\n",
    "    [1, 2, 3, 4],\n",
    "    [5, 6, 7, 8],\n",
    "    [9, 10, 11, 12],\n",
    "    [13, 14, 15, 16]\n",
    "])\n",
    "\n",
    "X[0,0]"
   ]
  },
  {
   "cell_type": "code",
   "execution_count": 107,
   "id": "de5f67da-1136-4198-aa20-88cccf7d37a3",
   "metadata": {},
   "outputs": [
    {
     "data": {
      "text/plain": [
       "16"
      ]
     },
     "execution_count": 107,
     "metadata": {},
     "output_type": "execute_result"
    }
   ],
   "source": [
    "# 10. Given the X numpy matrix, show the last element on last row\n",
    "\n",
    "X = np.array([\n",
    "    [1,   2,  3,  4],\n",
    "    [5,   6,  7,  8],\n",
    "    [9,  10, 11, 12],\n",
    "    [13, 14, 15, 16]\n",
    "])\n",
    "\n",
    "X[-1, -1]"
   ]
  },
  {
   "cell_type": "code",
   "execution_count": 109,
   "id": "beda2b75-0052-49d2-b39f-6d9c2e9d6171",
   "metadata": {},
   "outputs": [
    {
     "name": "stdout",
     "output_type": "stream",
     "text": [
      "[[1 2]\n",
      " [5 6]]\n"
     ]
    }
   ],
   "source": [
    "# 11. Given the X numpy matrix, show the first two elements on the first two rows.\n",
    "\n",
    "X = np.array([\n",
    "    [1,   2,  3,  4],\n",
    "    [5,   6,  7,  8],\n",
    "    [9,  10, 11, 12],\n",
    "    [13, 14, 15, 16]\n",
    "])\n",
    "\n",
    "print(X[0:2,0:2])"
   ]
  },
  {
   "cell_type": "code",
   "execution_count": 114,
   "id": "0ee0b9d7-b72c-4dc3-8c29-92d026e7e3d0",
   "metadata": {},
   "outputs": [
    {
     "name": "stdout",
     "output_type": "stream",
     "text": [
      "[[11 12]\n",
      " [15 16]]\n"
     ]
    }
   ],
   "source": [
    "# 12. Given the X numpy matrix, show the last two elements on the last two rows\n",
    "\n",
    "X = np.array([\n",
    "    [1,   2,  3,  4],\n",
    "    [5,   6,  7,  8],\n",
    "    [9,  10, 11, 12],\n",
    "    [13, 14, 15, 16]\n",
    "])\n",
    "\n",
    "print(X[-2:, -2:])"
   ]
  },
  {
   "cell_type": "markdown",
   "id": "f82502a9-714a-4b57-b52a-64a9c3f794a1",
   "metadata": {},
   "source": [
    "### Array Manipulation"
   ]
  },
  {
   "cell_type": "code",
   "execution_count": 117,
   "id": "99e7a7dd-88ab-40c8-800e-2524f2466bac",
   "metadata": {},
   "outputs": [
    {
     "data": {
      "text/plain": [
       "array([-5., -3.,  0., 10., 40.])"
      ]
     },
     "execution_count": 117,
     "metadata": {},
     "output_type": "execute_result"
    }
   ],
   "source": [
    "# 1. Convert the given integer numpy array to float\n",
    "X = np.array([-5, -3, 0, 10, 40])\n",
    "X_float = X.astype(float)\n",
    "X_float"
   ]
  },
  {
   "cell_type": "code",
   "execution_count": 120,
   "id": "fb5e3e11-db22-46f0-96d4-afd543761498",
   "metadata": {},
   "outputs": [
    {
     "name": "stdout",
     "output_type": "stream",
     "text": [
      "[40 10  0 -3 -5]\n"
     ]
    }
   ],
   "source": [
    "# 2.\tReverse the given numpy array (first element becomes last) through indexing\n",
    "X = np.array([-5, -3, 0, 10, 40])\n",
    "X = X[::-1]\n",
    "print(X)"
   ]
  },
  {
   "cell_type": "code",
   "execution_count": 122,
   "id": "55fdf188-a2a7-43f4-b521-47c920398ef1",
   "metadata": {},
   "outputs": [
    {
     "data": {
      "text/plain": [
       "array([0., 0., 0., 0., 1., 0., 0., 0., 0., 0.])"
      ]
     },
     "execution_count": 122,
     "metadata": {},
     "output_type": "execute_result"
    }
   ],
   "source": [
    "# 3.\tGiven the X numpy array, set the fifth element equal to 1\n",
    "X = np.zeros(10)\n",
    "X[4] = 1\n",
    "X"
   ]
  },
  {
   "cell_type": "code",
   "execution_count": 123,
   "id": "fc4ba4a7-5fe1-4cac-96bf-a4e974f0a57b",
   "metadata": {},
   "outputs": [
    {
     "data": {
      "text/plain": [
       "array([[ 1,  2,  3,  4],\n",
       "       [ 5,  6,  7,  8],\n",
       "       [ 9, 10, 11, 12],\n",
       "       [ 1,  1,  1,  1]])"
      ]
     },
     "execution_count": 123,
     "metadata": {},
     "output_type": "execute_result"
    }
   ],
   "source": [
    "# 4. Given the X numpy matrix, change the last row with all 1\n",
    "\n",
    "X = np.array([\n",
    "    [1,   2,  3,  4],\n",
    "    [5,   6,  7,  8],\n",
    "    [9,  10, 11, 12],\n",
    "    [13, 14, 15, 16]\n",
    "])\n",
    "\n",
    "X[3] = 1\n",
    "X"
   ]
  },
  {
   "cell_type": "code",
   "execution_count": 124,
   "id": "6ea7a906-5d1b-412a-b79a-7f9cd5f198fa",
   "metadata": {},
   "outputs": [
    {
     "data": {
      "text/plain": [
       "array([[ 6,  7,  8,  9],\n",
       "       [10, 11, 12, 13],\n",
       "       [14, 15, 16, 17],\n",
       "       [18, 19, 20, 21]])"
      ]
     },
     "execution_count": 124,
     "metadata": {},
     "output_type": "execute_result"
    }
   ],
   "source": [
    "# 5.\tGiven the X numpy matrix, add 5 to every element\n",
    "\n",
    "X = np.array([\n",
    "    [1,   2,  3,  4],\n",
    "    [5,   6,  7,  8],\n",
    "    [9,  10, 11, 12],\n",
    "    [13, 14, 15, 16]\n",
    "])\n",
    "\n",
    "X = X + 5\n",
    "X"
   ]
  }
 ],
 "metadata": {
  "kernelspec": {
   "display_name": "Python 3 (ipykernel)",
   "language": "python",
   "name": "python3"
  },
  "language_info": {
   "codemirror_mode": {
    "name": "ipython",
    "version": 3
   },
   "file_extension": ".py",
   "mimetype": "text/x-python",
   "name": "python",
   "nbconvert_exporter": "python",
   "pygments_lexer": "ipython3",
   "version": "3.10.9"
  }
 },
 "nbformat": 4,
 "nbformat_minor": 5
}
